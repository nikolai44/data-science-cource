{
 "cells": [
  {
   "cell_type": "markdown",
   "source": [
    "# Исследование объявлений о продаже квартир\n",
    "\n",
    "В нашем распоряжении данные сервиса Яндекс.Недвижимость — архив объявлений о продаже квартир в Санкт-Петербурге и соседних населённых пунктов за несколько лет. Нужно научиться _определять рыночную стоимость объектов недвижимости_.\n",
    "\n",
    "🎯 _Задача — установить параметры_. Это позволит построить автоматизированную систему: она отследит аномалии и мошенническую деятельность. \n",
    "\n",
    "По каждой квартире на продажу доступны два вида данных:\n",
    "* первые вписаны пользователем\n",
    "* вторые — получены автоматически на основе картографических данных. Например, расстояние до центра, аэропорта, ближайшего парка и водоёма."
   ],
   "metadata": {
    "collapsed": false
   }
  },
  {
   "cell_type": "markdown",
   "source": [
    "## Шаг 1. Откроем файл с данными и изучим общую информацию"
   ],
   "metadata": {
    "collapsed": false
   }
  },
  {
   "cell_type": "code",
   "execution_count": 4,
   "outputs": [
    {
     "data": {
      "text/plain": "   total_images  last_price  total_area first_day_exposition  rooms  \\\n0            20  13000000.0       108.0  2019-03-07T00:00:00      3   \n1             7   3350000.0        40.4  2018-12-04T00:00:00      1   \n2            10   5196000.0        56.0  2015-08-20T00:00:00      2   \n3             0  64900000.0       159.0  2015-07-24T00:00:00      3   \n4             2  10000000.0       100.0  2018-06-19T00:00:00      2   \n\n   ceiling_height  floors_total  living_area  floor is_apartment  ...  \\\n0            2.70          16.0         51.0      8          NaN  ...   \n1             NaN          11.0         18.6      1          NaN  ...   \n2             NaN           5.0         34.3      4          NaN  ...   \n3             NaN          14.0          NaN      9          NaN  ...   \n4            3.03          14.0         32.0     13          NaN  ...   \n\n   kitchen_area  balcony    locality_name  airports_nearest  \\\n0          25.0      NaN  Санкт-Петербург           18863.0   \n1          11.0      2.0   посёлок Шушары           12817.0   \n2           8.3      0.0  Санкт-Петербург           21741.0   \n3           NaN      0.0  Санкт-Петербург           28098.0   \n4          41.0      NaN  Санкт-Петербург           31856.0   \n\n  cityCenters_nearest  parks_around3000  parks_nearest  ponds_around3000  \\\n0             16028.0               1.0          482.0               2.0   \n1             18603.0               0.0            NaN               0.0   \n2             13933.0               1.0           90.0               2.0   \n3              6800.0               2.0           84.0               3.0   \n4              8098.0               2.0          112.0               1.0   \n\n   ponds_nearest  days_exposition  \n0          755.0              NaN  \n1            NaN             81.0  \n2          574.0            558.0  \n3          234.0            424.0  \n4           48.0            121.0  \n\n[5 rows x 22 columns]",
      "text/html": "<div>\n<style scoped>\n    .dataframe tbody tr th:only-of-type {\n        vertical-align: middle;\n    }\n\n    .dataframe tbody tr th {\n        vertical-align: top;\n    }\n\n    .dataframe thead th {\n        text-align: right;\n    }\n</style>\n<table border=\"1\" class=\"dataframe\">\n  <thead>\n    <tr style=\"text-align: right;\">\n      <th></th>\n      <th>total_images</th>\n      <th>last_price</th>\n      <th>total_area</th>\n      <th>first_day_exposition</th>\n      <th>rooms</th>\n      <th>ceiling_height</th>\n      <th>floors_total</th>\n      <th>living_area</th>\n      <th>floor</th>\n      <th>is_apartment</th>\n      <th>...</th>\n      <th>kitchen_area</th>\n      <th>balcony</th>\n      <th>locality_name</th>\n      <th>airports_nearest</th>\n      <th>cityCenters_nearest</th>\n      <th>parks_around3000</th>\n      <th>parks_nearest</th>\n      <th>ponds_around3000</th>\n      <th>ponds_nearest</th>\n      <th>days_exposition</th>\n    </tr>\n  </thead>\n  <tbody>\n    <tr>\n      <th>0</th>\n      <td>20</td>\n      <td>13000000.0</td>\n      <td>108.0</td>\n      <td>2019-03-07T00:00:00</td>\n      <td>3</td>\n      <td>2.70</td>\n      <td>16.0</td>\n      <td>51.0</td>\n      <td>8</td>\n      <td>NaN</td>\n      <td>...</td>\n      <td>25.0</td>\n      <td>NaN</td>\n      <td>Санкт-Петербург</td>\n      <td>18863.0</td>\n      <td>16028.0</td>\n      <td>1.0</td>\n      <td>482.0</td>\n      <td>2.0</td>\n      <td>755.0</td>\n      <td>NaN</td>\n    </tr>\n    <tr>\n      <th>1</th>\n      <td>7</td>\n      <td>3350000.0</td>\n      <td>40.4</td>\n      <td>2018-12-04T00:00:00</td>\n      <td>1</td>\n      <td>NaN</td>\n      <td>11.0</td>\n      <td>18.6</td>\n      <td>1</td>\n      <td>NaN</td>\n      <td>...</td>\n      <td>11.0</td>\n      <td>2.0</td>\n      <td>посёлок Шушары</td>\n      <td>12817.0</td>\n      <td>18603.0</td>\n      <td>0.0</td>\n      <td>NaN</td>\n      <td>0.0</td>\n      <td>NaN</td>\n      <td>81.0</td>\n    </tr>\n    <tr>\n      <th>2</th>\n      <td>10</td>\n      <td>5196000.0</td>\n      <td>56.0</td>\n      <td>2015-08-20T00:00:00</td>\n      <td>2</td>\n      <td>NaN</td>\n      <td>5.0</td>\n      <td>34.3</td>\n      <td>4</td>\n      <td>NaN</td>\n      <td>...</td>\n      <td>8.3</td>\n      <td>0.0</td>\n      <td>Санкт-Петербург</td>\n      <td>21741.0</td>\n      <td>13933.0</td>\n      <td>1.0</td>\n      <td>90.0</td>\n      <td>2.0</td>\n      <td>574.0</td>\n      <td>558.0</td>\n    </tr>\n    <tr>\n      <th>3</th>\n      <td>0</td>\n      <td>64900000.0</td>\n      <td>159.0</td>\n      <td>2015-07-24T00:00:00</td>\n      <td>3</td>\n      <td>NaN</td>\n      <td>14.0</td>\n      <td>NaN</td>\n      <td>9</td>\n      <td>NaN</td>\n      <td>...</td>\n      <td>NaN</td>\n      <td>0.0</td>\n      <td>Санкт-Петербург</td>\n      <td>28098.0</td>\n      <td>6800.0</td>\n      <td>2.0</td>\n      <td>84.0</td>\n      <td>3.0</td>\n      <td>234.0</td>\n      <td>424.0</td>\n    </tr>\n    <tr>\n      <th>4</th>\n      <td>2</td>\n      <td>10000000.0</td>\n      <td>100.0</td>\n      <td>2018-06-19T00:00:00</td>\n      <td>2</td>\n      <td>3.03</td>\n      <td>14.0</td>\n      <td>32.0</td>\n      <td>13</td>\n      <td>NaN</td>\n      <td>...</td>\n      <td>41.0</td>\n      <td>NaN</td>\n      <td>Санкт-Петербург</td>\n      <td>31856.0</td>\n      <td>8098.0</td>\n      <td>2.0</td>\n      <td>112.0</td>\n      <td>1.0</td>\n      <td>48.0</td>\n      <td>121.0</td>\n    </tr>\n  </tbody>\n</table>\n<p>5 rows × 22 columns</p>\n</div>"
     },
     "execution_count": 4,
     "metadata": {},
     "output_type": "execute_result"
    }
   ],
   "source": [
    "import pandas as pd\n",
    "import matplotlib.pyplot as plt\n",
    "\n",
    "df = pd.read_csv('data.csv', sep='\\t')\n",
    "df.head()"
   ],
   "metadata": {
    "collapsed": false,
    "pycharm": {
     "name": "#%%\n"
    }
   }
  },
  {
   "cell_type": "markdown",
   "source": [
    "## Шаг 2. Предобработка данных\n",
    "\n",
    "* определите и изучите пропущенные значения:\n",
    "  * для некоторых пропущенных значений можно предположить логичную замену.\n",
    "    Например, если человек не указал число балконов — скорее всего, их нет.\n",
    "    Такие пропуски правильно заменить на 0. Для других типов данных нет подходящего значения на замену.\n",
    "    В этом случае правильно оставить эти значения пустыми.\n",
    "    Отсутствие значения — тоже важный сигнал, который не нужно прятать;\n",
    "  * заполните пропуски, где это уместно. Опишите, почему вы решили заполнить пропуски именно в этих столбцах и как выбрали значения;\n",
    "  * укажите причины, которые могли привести к пропускам в данных.\n",
    "\n",
    "* приведите данные к нужным типам:\n",
    "  * поясните, в каких столбцах нужно изменить тип данных и почему."
   ],
   "metadata": {
    "collapsed": false,
    "pycharm": {
     "name": "#%% md\n"
    }
   }
  },
  {
   "cell_type": "code",
   "execution_count": 8,
   "outputs": [
    {
     "data": {
      "text/plain": "total_images            23699\nlast_price              23699\ntotal_area              23699\nfirst_day_exposition    23699\nrooms                   23699\nceiling_height          14504\nfloors_total            23613\nliving_area             21796\nfloor                   23699\nis_apartment             2775\nstudio                  23699\nopen_plan               23699\nkitchen_area            21421\nbalcony                 12180\nlocality_name           23650\nairports_nearest        18157\ncityCenters_nearest     18180\nparks_around3000        18181\nparks_nearest            8079\nponds_around3000        18181\nponds_nearest            9110\ndays_exposition         20518\ndtype: int64"
     },
     "execution_count": 8,
     "metadata": {},
     "output_type": "execute_result"
    }
   ],
   "source": [
    "df.count()"
   ],
   "metadata": {
    "collapsed": false,
    "pycharm": {
     "name": "#%%\n"
    }
   }
  },
  {
   "cell_type": "code",
   "execution_count": 23,
   "outputs": [],
   "source": [
    "# есть выбросы, поэтому нужно либо их убрать и заполнить пропуски средним,\n",
    "# либо заполнить медианой, но это должно сместить выборку\n",
    "df.ceiling_height.fillna(df.ceiling_height.median(), inplace=True)\n",
    "\n",
    "df[df.floors_total.isna()] = df.floors_total.mean()\n",
    "df[df.floors_total < df.floor].floors_total = df.floor\n",
    "\n",
    "# можно ещё на группы разбить по площади\n",
    "living_to_total_ratio = (df.living_area / df.total_area).mean()\n",
    "df.living_area.fillna(df.total_area * living_to_total_ratio, inplace=True)\n",
    "\n",
    "df.is_apartment.fillna(False, inplace=True)\n",
    "\n",
    "kitchen_to_total_ratio = (df.kitchen_area / df.total_area).mean()\n",
    "df.kitchen_area.fillna(df.total_area * kitchen_to_total_ratio, inplace=True)\n",
    "\n",
    "df.balcony.fillna(0, inplace=True)\n",
    "\n",
    "df.locality_name.fillna('empty', inplace=True)\n",
    "\n",
    "df.ponds_nearest\n"
   ],
   "metadata": {
    "collapsed": false,
    "pycharm": {
     "name": "#%%\n"
    }
   }
  },
  {
   "cell_type": "code",
   "execution_count": 30,
   "outputs": [
    {
     "data": {
      "text/plain": "10.673824      86\n427.000000     69\n454.000000     41\n153.000000     40\n433.000000     39\n               ..\n105.000000      1\n59.000000       1\n1069.000000     1\n1270.000000     1\n995.000000      1\nName: ponds_nearest, Length: 1097, dtype: int64"
     },
     "execution_count": 30,
     "metadata": {},
     "output_type": "execute_result"
    }
   ],
   "source": [
    "df.ponds_nearest.value_counts()"
   ],
   "metadata": {
    "collapsed": false,
    "pycharm": {
     "name": "#%%\n"
    }
   }
  },
  {
   "cell_type": "code",
   "execution_count": null,
   "outputs": [],
   "source": [],
   "metadata": {
    "collapsed": false,
    "pycharm": {
     "name": "#%%\n"
    }
   }
  }
 ],
 "metadata": {
  "kernelspec": {
   "display_name": "Python 3",
   "language": "python",
   "name": "python3"
  },
  "language_info": {
   "codemirror_mode": {
    "name": "ipython",
    "version": 3
   },
   "file_extension": ".py",
   "mimetype": "text/x-python",
   "name": "python",
   "nbconvert_exporter": "python",
   "pygments_lexer": "ipython3",
   "version": "3.7.4"
  }
 },
 "nbformat": 4,
 "nbformat_minor": 2
}