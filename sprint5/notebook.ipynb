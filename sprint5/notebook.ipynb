{
 "cells": [
  {
   "cell_type": "markdown",
   "source": [
    "# Сборный проект 1\n",
    "\n",
    "Вы работаете в интернет-магазине «Стримчик», который продаёт по всему миру компьютерные игры.\n",
    "\n",
    "Из открытых источников доступны исторические данные о продажах игр, оценки пользователей и экспертов, жанры и платформы (например, Xbox или PlayStation).\n",
    "\n",
    "🎯 Вам нужно _выявить определяющие успешность игры закономерности_. Это позволит сделать ставку на потенциально популярный продукт и спланировать рекламные кампании. Перед вами данные до 2016 года.\n",
    "\n",
    "Представим, что сейчас декабрь 2016 г., и вы планируете кампанию на 2017-й. Нужно отработать принцип работы с данными. Не важно, прогнозируете ли вы продажи на 2017 год по данным 2016-го или же 2027-й — по данным 2026 года."
   ],
   "metadata": {
    "collapsed": false
   }
  },
  {
   "cell_type": "markdown",
   "source": [
    "## 1. Общая информация о датасете"
   ],
   "metadata": {
    "collapsed": false
   }
  },
  {
   "cell_type": "code",
   "execution_count": 1,
   "outputs": [],
   "source": [
    "import pandas as pd\n",
    "import numpy as np\n",
    "import matplotlib.pyplot as plt\n",
    "from scipy import stats as st"
   ],
   "metadata": {
    "collapsed": false,
    "pycharm": {
     "name": "#%%\n"
    }
   }
  },
  {
   "cell_type": "code",
   "execution_count": 2,
   "outputs": [],
   "source": [
    "df = pd.read_csv('games.csv')"
   ],
   "metadata": {
    "collapsed": false,
    "pycharm": {
     "name": "#%%\n"
    }
   }
  },
  {
   "cell_type": "code",
   "execution_count": 3,
   "outputs": [
    {
     "name": "stdout",
     "output_type": "stream",
     "text": [
      "<class 'pandas.core.frame.DataFrame'>\n",
      "RangeIndex: 16715 entries, 0 to 16714\n",
      "Data columns (total 11 columns):\n",
      " #   Column           Non-Null Count  Dtype  \n",
      "---  ------           --------------  -----  \n",
      " 0   Name             16713 non-null  object \n",
      " 1   Platform         16715 non-null  object \n",
      " 2   Year_of_Release  16446 non-null  float64\n",
      " 3   Genre            16713 non-null  object \n",
      " 4   NA_sales         16715 non-null  float64\n",
      " 5   EU_sales         16715 non-null  float64\n",
      " 6   JP_sales         16715 non-null  float64\n",
      " 7   Other_sales      16715 non-null  float64\n",
      " 8   Critic_Score     8137 non-null   float64\n",
      " 9   User_Score       10014 non-null  object \n",
      " 10  Rating           9949 non-null   object \n",
      "dtypes: float64(6), object(5)\n",
      "memory usage: 1.4+ MB\n"
     ]
    }
   ],
   "source": [
    "df.info()"
   ],
   "metadata": {
    "collapsed": false,
    "pycharm": {
     "name": "#%%\n"
    }
   }
  },
  {
   "cell_type": "markdown",
   "source": [
    "16 715 записей"
   ],
   "metadata": {
    "collapsed": false
   }
  },
  {
   "cell_type": "markdown",
   "source": [
    "## Шаг 2. Подготовьте данные\n",
    "\n",
    "- Замените названия столбцов (приведите к нижнему регистру);"
   ],
   "metadata": {
    "collapsed": false,
    "pycharm": {
     "name": "#%% md\n"
    }
   }
  },
  {
   "cell_type": "code",
   "execution_count": 4,
   "outputs": [],
   "source": [
    "df.columns = [col.lower() for col in df.columns]"
   ],
   "metadata": {
    "collapsed": false,
    "pycharm": {
     "name": "#%%\n"
    }
   }
  },
  {
   "cell_type": "markdown",
   "source": [
    "- Обработайте пропуски при необходимости:\n",
    "  - Объясните, почему заполнили пропуски определённым образом или почему не стали это делать;\n",
    "  - Опишите причины, которые могли привести к пропускам;\n",
    "  - Обратите внимание на аббревиатуру 'tbd' в столбцах с рейтингом. Отдельно разберите это значение и опишите, как его обработать;"
   ],
   "metadata": {
    "collapsed": false,
    "pycharm": {
     "name": "#%% md\n"
    }
   }
  },
  {
   "cell_type": "code",
   "execution_count": 4,
   "outputs": [],
   "source": [],
   "metadata": {
    "collapsed": false,
    "pycharm": {
     "name": "#%%\n"
    }
   }
  },
  {
   "cell_type": "code",
   "execution_count": 5,
   "outputs": [
    {
     "name": "stderr",
     "output_type": "stream",
     "text": [
      "/Users/a18992739/Library/Python/3.8/lib/python/site-packages/pandas/core/generic.py:5491: SettingWithCopyWarning: \n",
      "A value is trying to be set on a copy of a slice from a DataFrame.\n",
      "Try using .loc[row_indexer,col_indexer] = value instead\n",
      "\n",
      "See the caveats in the documentation: https://pandas.pydata.org/pandas-docs/stable/user_guide/indexing.html#returning-a-view-versus-a-copy\n",
      "  self[name] = value\n"
     ]
    },
    {
     "data": {
      "text/plain": "0        76.000000\n1        68.967679\n2        82.000000\n3        80.000000\n4        68.967679\n           ...    \n16710    68.967679\n16711    68.967679\n16712    68.967679\n16713    68.967679\n16714    68.967679\nName: critic_score, Length: 16715, dtype: float64"
     },
     "execution_count": 5,
     "metadata": {},
     "output_type": "execute_result"
    }
   ],
   "source": [
    "df[df.name.isna()].name = 'unknown'\n",
    "# можно брать среднее по платформе\n",
    "df[df.year_of_release.isna()].year_of_release = df.year_of_release.mean()\n",
    "df[df.genre.isna()].genre = 'unknown'\n",
    "df.na_sales.fillna(0)\n",
    "df.eu_sales.fillna(0)\n",
    "df.jp_sales.fillna(0)\n",
    "df.other_sales.fillna(0)\n",
    "\n",
    "df.critic_score.fillna(df.critic_score.mean())"
   ],
   "metadata": {
    "collapsed": false,
    "pycharm": {
     "name": "#%%\n"
    }
   }
  },
  {
   "cell_type": "code",
   "execution_count": 11,
   "outputs": [],
   "source": [
    "df[df.user_score == 'tbd'] = None\n",
    "df.user_score = df.user_score.astype('float')\n",
    "df.user_score = df.user_score.fillna(df.user_score.mean())"
   ],
   "metadata": {
    "collapsed": false,
    "pycharm": {
     "name": "#%%\n"
    }
   }
  },
  {
   "cell_type": "code",
   "execution_count": 7,
   "outputs": [
    {
     "data": {
      "text/plain": "                                            name platform  year_of_release  \\\n0                                     Wii Sports      Wii           2006.0   \n1                              Super Mario Bros.      NES           1985.0   \n2                                 Mario Kart Wii      Wii           2008.0   \n3                              Wii Sports Resort      Wii           2009.0   \n4                       Pokemon Red/Pokemon Blue       GB           1996.0   \n5                                         Tetris       GB           1989.0   \n6                          New Super Mario Bros.       DS           2006.0   \n7                                       Wii Play      Wii           2006.0   \n8                      New Super Mario Bros. Wii      Wii           2009.0   \n9                                      Duck Hunt      NES           1984.0   \n10                                    Nintendogs       DS           2005.0   \n11                                 Mario Kart DS       DS           2005.0   \n12                   Pokemon Gold/Pokemon Silver       GB           1999.0   \n13                                       Wii Fit      Wii           2007.0   \n14                            Kinect Adventures!     X360           2010.0   \n15                                  Wii Fit Plus      Wii           2009.0   \n16                            Grand Theft Auto V      PS3           2013.0   \n17                 Grand Theft Auto: San Andreas      PS2           2004.0   \n18                             Super Mario World     SNES           1990.0   \n19  Brain Age: Train Your Brain in Minutes a Day       DS           2005.0   \n20                 Pokemon Diamond/Pokemon Pearl       DS           2006.0   \n21                              Super Mario Land       GB           1989.0   \n22                           Super Mario Bros. 3      NES           1988.0   \n23                            Grand Theft Auto V     X360           2013.0   \n24                   Grand Theft Auto: Vice City      PS2           2002.0   \n25                 Pokemon Ruby/Pokemon Sapphire      GBA           2002.0   \n26   Brain Age 2: More Training in Minutes a Day       DS           2005.0   \n27                   Pokemon Black/Pokemon White       DS           2010.0   \n28                        Gran Turismo 3: A-Spec      PS2           2001.0   \n29                Call of Duty: Modern Warfare 3     X360           2011.0   \n\n           genre  na_sales  eu_sales  jp_sales  other_sales  critic_score  \\\n0         Sports     41.36     28.96      3.77         8.45          76.0   \n1       Platform     29.08      3.58      6.81         0.77           NaN   \n2         Racing     15.68     12.76      3.79         3.29          82.0   \n3         Sports     15.61     10.93      3.28         2.95          80.0   \n4   Role-Playing     11.27      8.89     10.22         1.00           NaN   \n5         Puzzle     23.20      2.26      4.22         0.58           NaN   \n6       Platform     11.28      9.14      6.50         2.88          89.0   \n7           Misc     13.96      9.18      2.93         2.84          58.0   \n8       Platform     14.44      6.94      4.70         2.24          87.0   \n9        Shooter     26.93      0.63      0.28         0.47           NaN   \n10    Simulation      9.05     10.95      1.93         2.74           NaN   \n11        Racing      9.71      7.47      4.13         1.90          91.0   \n12  Role-Playing      9.00      6.18      7.20         0.71           NaN   \n13        Sports      8.92      8.03      3.60         2.15          80.0   \n14          Misc     15.00      4.89      0.24         1.69          61.0   \n15        Sports      9.01      8.49      2.53         1.77          80.0   \n16        Action      7.02      9.09      0.98         3.96          97.0   \n17        Action      9.43      0.40      0.41        10.57          95.0   \n18      Platform     12.78      3.75      3.54         0.55           NaN   \n19          Misc      4.74      9.20      4.16         2.04          77.0   \n20  Role-Playing      6.38      4.46      6.04         1.36           NaN   \n21      Platform     10.83      2.71      4.18         0.42           NaN   \n22      Platform      9.54      3.44      3.84         0.46           NaN   \n23        Action      9.66      5.14      0.06         1.41          97.0   \n24        Action      8.41      5.49      0.47         1.78          95.0   \n25  Role-Playing      6.06      3.90      5.38         0.50           NaN   \n26        Puzzle      3.43      5.35      5.32         1.18          77.0   \n27  Role-Playing      5.51      3.17      5.65         0.80           NaN   \n28        Racing      6.85      5.09      1.87         1.16          95.0   \n29       Shooter      9.04      4.24      0.13         1.32          88.0   \n\n    user_score rating  \n0          8.0      E  \n1          NaN    NaN  \n2          8.3      E  \n3          8.0      E  \n4          NaN    NaN  \n5          NaN    NaN  \n6          8.5      E  \n7          6.6      E  \n8          8.4      E  \n9          NaN    NaN  \n10         NaN    NaN  \n11         8.6      E  \n12         NaN    NaN  \n13         7.7      E  \n14         6.3      E  \n15         7.4      E  \n16         8.2      M  \n17         9.0      M  \n18         NaN    NaN  \n19         7.9      E  \n20         NaN    NaN  \n21         NaN    NaN  \n22         NaN    NaN  \n23         8.1      M  \n24         8.7      M  \n25         NaN    NaN  \n26         7.1      E  \n27         NaN    NaN  \n28         8.4      E  \n29         3.4      M  ",
      "text/html": "<div>\n<style scoped>\n    .dataframe tbody tr th:only-of-type {\n        vertical-align: middle;\n    }\n\n    .dataframe tbody tr th {\n        vertical-align: top;\n    }\n\n    .dataframe thead th {\n        text-align: right;\n    }\n</style>\n<table border=\"1\" class=\"dataframe\">\n  <thead>\n    <tr style=\"text-align: right;\">\n      <th></th>\n      <th>name</th>\n      <th>platform</th>\n      <th>year_of_release</th>\n      <th>genre</th>\n      <th>na_sales</th>\n      <th>eu_sales</th>\n      <th>jp_sales</th>\n      <th>other_sales</th>\n      <th>critic_score</th>\n      <th>user_score</th>\n      <th>rating</th>\n    </tr>\n  </thead>\n  <tbody>\n    <tr>\n      <th>0</th>\n      <td>Wii Sports</td>\n      <td>Wii</td>\n      <td>2006.0</td>\n      <td>Sports</td>\n      <td>41.36</td>\n      <td>28.96</td>\n      <td>3.77</td>\n      <td>8.45</td>\n      <td>76.0</td>\n      <td>8.0</td>\n      <td>E</td>\n    </tr>\n    <tr>\n      <th>1</th>\n      <td>Super Mario Bros.</td>\n      <td>NES</td>\n      <td>1985.0</td>\n      <td>Platform</td>\n      <td>29.08</td>\n      <td>3.58</td>\n      <td>6.81</td>\n      <td>0.77</td>\n      <td>NaN</td>\n      <td>NaN</td>\n      <td>NaN</td>\n    </tr>\n    <tr>\n      <th>2</th>\n      <td>Mario Kart Wii</td>\n      <td>Wii</td>\n      <td>2008.0</td>\n      <td>Racing</td>\n      <td>15.68</td>\n      <td>12.76</td>\n      <td>3.79</td>\n      <td>3.29</td>\n      <td>82.0</td>\n      <td>8.3</td>\n      <td>E</td>\n    </tr>\n    <tr>\n      <th>3</th>\n      <td>Wii Sports Resort</td>\n      <td>Wii</td>\n      <td>2009.0</td>\n      <td>Sports</td>\n      <td>15.61</td>\n      <td>10.93</td>\n      <td>3.28</td>\n      <td>2.95</td>\n      <td>80.0</td>\n      <td>8.0</td>\n      <td>E</td>\n    </tr>\n    <tr>\n      <th>4</th>\n      <td>Pokemon Red/Pokemon Blue</td>\n      <td>GB</td>\n      <td>1996.0</td>\n      <td>Role-Playing</td>\n      <td>11.27</td>\n      <td>8.89</td>\n      <td>10.22</td>\n      <td>1.00</td>\n      <td>NaN</td>\n      <td>NaN</td>\n      <td>NaN</td>\n    </tr>\n    <tr>\n      <th>5</th>\n      <td>Tetris</td>\n      <td>GB</td>\n      <td>1989.0</td>\n      <td>Puzzle</td>\n      <td>23.20</td>\n      <td>2.26</td>\n      <td>4.22</td>\n      <td>0.58</td>\n      <td>NaN</td>\n      <td>NaN</td>\n      <td>NaN</td>\n    </tr>\n    <tr>\n      <th>6</th>\n      <td>New Super Mario Bros.</td>\n      <td>DS</td>\n      <td>2006.0</td>\n      <td>Platform</td>\n      <td>11.28</td>\n      <td>9.14</td>\n      <td>6.50</td>\n      <td>2.88</td>\n      <td>89.0</td>\n      <td>8.5</td>\n      <td>E</td>\n    </tr>\n    <tr>\n      <th>7</th>\n      <td>Wii Play</td>\n      <td>Wii</td>\n      <td>2006.0</td>\n      <td>Misc</td>\n      <td>13.96</td>\n      <td>9.18</td>\n      <td>2.93</td>\n      <td>2.84</td>\n      <td>58.0</td>\n      <td>6.6</td>\n      <td>E</td>\n    </tr>\n    <tr>\n      <th>8</th>\n      <td>New Super Mario Bros. Wii</td>\n      <td>Wii</td>\n      <td>2009.0</td>\n      <td>Platform</td>\n      <td>14.44</td>\n      <td>6.94</td>\n      <td>4.70</td>\n      <td>2.24</td>\n      <td>87.0</td>\n      <td>8.4</td>\n      <td>E</td>\n    </tr>\n    <tr>\n      <th>9</th>\n      <td>Duck Hunt</td>\n      <td>NES</td>\n      <td>1984.0</td>\n      <td>Shooter</td>\n      <td>26.93</td>\n      <td>0.63</td>\n      <td>0.28</td>\n      <td>0.47</td>\n      <td>NaN</td>\n      <td>NaN</td>\n      <td>NaN</td>\n    </tr>\n    <tr>\n      <th>10</th>\n      <td>Nintendogs</td>\n      <td>DS</td>\n      <td>2005.0</td>\n      <td>Simulation</td>\n      <td>9.05</td>\n      <td>10.95</td>\n      <td>1.93</td>\n      <td>2.74</td>\n      <td>NaN</td>\n      <td>NaN</td>\n      <td>NaN</td>\n    </tr>\n    <tr>\n      <th>11</th>\n      <td>Mario Kart DS</td>\n      <td>DS</td>\n      <td>2005.0</td>\n      <td>Racing</td>\n      <td>9.71</td>\n      <td>7.47</td>\n      <td>4.13</td>\n      <td>1.90</td>\n      <td>91.0</td>\n      <td>8.6</td>\n      <td>E</td>\n    </tr>\n    <tr>\n      <th>12</th>\n      <td>Pokemon Gold/Pokemon Silver</td>\n      <td>GB</td>\n      <td>1999.0</td>\n      <td>Role-Playing</td>\n      <td>9.00</td>\n      <td>6.18</td>\n      <td>7.20</td>\n      <td>0.71</td>\n      <td>NaN</td>\n      <td>NaN</td>\n      <td>NaN</td>\n    </tr>\n    <tr>\n      <th>13</th>\n      <td>Wii Fit</td>\n      <td>Wii</td>\n      <td>2007.0</td>\n      <td>Sports</td>\n      <td>8.92</td>\n      <td>8.03</td>\n      <td>3.60</td>\n      <td>2.15</td>\n      <td>80.0</td>\n      <td>7.7</td>\n      <td>E</td>\n    </tr>\n    <tr>\n      <th>14</th>\n      <td>Kinect Adventures!</td>\n      <td>X360</td>\n      <td>2010.0</td>\n      <td>Misc</td>\n      <td>15.00</td>\n      <td>4.89</td>\n      <td>0.24</td>\n      <td>1.69</td>\n      <td>61.0</td>\n      <td>6.3</td>\n      <td>E</td>\n    </tr>\n    <tr>\n      <th>15</th>\n      <td>Wii Fit Plus</td>\n      <td>Wii</td>\n      <td>2009.0</td>\n      <td>Sports</td>\n      <td>9.01</td>\n      <td>8.49</td>\n      <td>2.53</td>\n      <td>1.77</td>\n      <td>80.0</td>\n      <td>7.4</td>\n      <td>E</td>\n    </tr>\n    <tr>\n      <th>16</th>\n      <td>Grand Theft Auto V</td>\n      <td>PS3</td>\n      <td>2013.0</td>\n      <td>Action</td>\n      <td>7.02</td>\n      <td>9.09</td>\n      <td>0.98</td>\n      <td>3.96</td>\n      <td>97.0</td>\n      <td>8.2</td>\n      <td>M</td>\n    </tr>\n    <tr>\n      <th>17</th>\n      <td>Grand Theft Auto: San Andreas</td>\n      <td>PS2</td>\n      <td>2004.0</td>\n      <td>Action</td>\n      <td>9.43</td>\n      <td>0.40</td>\n      <td>0.41</td>\n      <td>10.57</td>\n      <td>95.0</td>\n      <td>9.0</td>\n      <td>M</td>\n    </tr>\n    <tr>\n      <th>18</th>\n      <td>Super Mario World</td>\n      <td>SNES</td>\n      <td>1990.0</td>\n      <td>Platform</td>\n      <td>12.78</td>\n      <td>3.75</td>\n      <td>3.54</td>\n      <td>0.55</td>\n      <td>NaN</td>\n      <td>NaN</td>\n      <td>NaN</td>\n    </tr>\n    <tr>\n      <th>19</th>\n      <td>Brain Age: Train Your Brain in Minutes a Day</td>\n      <td>DS</td>\n      <td>2005.0</td>\n      <td>Misc</td>\n      <td>4.74</td>\n      <td>9.20</td>\n      <td>4.16</td>\n      <td>2.04</td>\n      <td>77.0</td>\n      <td>7.9</td>\n      <td>E</td>\n    </tr>\n    <tr>\n      <th>20</th>\n      <td>Pokemon Diamond/Pokemon Pearl</td>\n      <td>DS</td>\n      <td>2006.0</td>\n      <td>Role-Playing</td>\n      <td>6.38</td>\n      <td>4.46</td>\n      <td>6.04</td>\n      <td>1.36</td>\n      <td>NaN</td>\n      <td>NaN</td>\n      <td>NaN</td>\n    </tr>\n    <tr>\n      <th>21</th>\n      <td>Super Mario Land</td>\n      <td>GB</td>\n      <td>1989.0</td>\n      <td>Platform</td>\n      <td>10.83</td>\n      <td>2.71</td>\n      <td>4.18</td>\n      <td>0.42</td>\n      <td>NaN</td>\n      <td>NaN</td>\n      <td>NaN</td>\n    </tr>\n    <tr>\n      <th>22</th>\n      <td>Super Mario Bros. 3</td>\n      <td>NES</td>\n      <td>1988.0</td>\n      <td>Platform</td>\n      <td>9.54</td>\n      <td>3.44</td>\n      <td>3.84</td>\n      <td>0.46</td>\n      <td>NaN</td>\n      <td>NaN</td>\n      <td>NaN</td>\n    </tr>\n    <tr>\n      <th>23</th>\n      <td>Grand Theft Auto V</td>\n      <td>X360</td>\n      <td>2013.0</td>\n      <td>Action</td>\n      <td>9.66</td>\n      <td>5.14</td>\n      <td>0.06</td>\n      <td>1.41</td>\n      <td>97.0</td>\n      <td>8.1</td>\n      <td>M</td>\n    </tr>\n    <tr>\n      <th>24</th>\n      <td>Grand Theft Auto: Vice City</td>\n      <td>PS2</td>\n      <td>2002.0</td>\n      <td>Action</td>\n      <td>8.41</td>\n      <td>5.49</td>\n      <td>0.47</td>\n      <td>1.78</td>\n      <td>95.0</td>\n      <td>8.7</td>\n      <td>M</td>\n    </tr>\n    <tr>\n      <th>25</th>\n      <td>Pokemon Ruby/Pokemon Sapphire</td>\n      <td>GBA</td>\n      <td>2002.0</td>\n      <td>Role-Playing</td>\n      <td>6.06</td>\n      <td>3.90</td>\n      <td>5.38</td>\n      <td>0.50</td>\n      <td>NaN</td>\n      <td>NaN</td>\n      <td>NaN</td>\n    </tr>\n    <tr>\n      <th>26</th>\n      <td>Brain Age 2: More Training in Minutes a Day</td>\n      <td>DS</td>\n      <td>2005.0</td>\n      <td>Puzzle</td>\n      <td>3.43</td>\n      <td>5.35</td>\n      <td>5.32</td>\n      <td>1.18</td>\n      <td>77.0</td>\n      <td>7.1</td>\n      <td>E</td>\n    </tr>\n    <tr>\n      <th>27</th>\n      <td>Pokemon Black/Pokemon White</td>\n      <td>DS</td>\n      <td>2010.0</td>\n      <td>Role-Playing</td>\n      <td>5.51</td>\n      <td>3.17</td>\n      <td>5.65</td>\n      <td>0.80</td>\n      <td>NaN</td>\n      <td>NaN</td>\n      <td>NaN</td>\n    </tr>\n    <tr>\n      <th>28</th>\n      <td>Gran Turismo 3: A-Spec</td>\n      <td>PS2</td>\n      <td>2001.0</td>\n      <td>Racing</td>\n      <td>6.85</td>\n      <td>5.09</td>\n      <td>1.87</td>\n      <td>1.16</td>\n      <td>95.0</td>\n      <td>8.4</td>\n      <td>E</td>\n    </tr>\n    <tr>\n      <th>29</th>\n      <td>Call of Duty: Modern Warfare 3</td>\n      <td>X360</td>\n      <td>2011.0</td>\n      <td>Shooter</td>\n      <td>9.04</td>\n      <td>4.24</td>\n      <td>0.13</td>\n      <td>1.32</td>\n      <td>88.0</td>\n      <td>3.4</td>\n      <td>M</td>\n    </tr>\n  </tbody>\n</table>\n</div>"
     },
     "execution_count": 7,
     "metadata": {},
     "output_type": "execute_result"
    }
   ],
   "source": [
    "df.head(30)"
   ],
   "metadata": {
    "collapsed": false,
    "pycharm": {
     "name": "#%% \n"
    }
   }
  },
  {
   "cell_type": "code",
   "execution_count": 8,
   "outputs": [
    {
     "ename": "ValueError",
     "evalue": "Cannot convert non-finite values (NA or inf) to integer",
     "output_type": "error",
     "traceback": [
      "\u001B[0;31m---------------------------------------------------------------------------\u001B[0m",
      "\u001B[0;31mValueError\u001B[0m                                Traceback (most recent call last)",
      "\u001B[0;32m<ipython-input-8-e515cfec9283>\u001B[0m in \u001B[0;36m<module>\u001B[0;34m\u001B[0m\n\u001B[0;32m----> 1\u001B[0;31m \u001B[0mdf\u001B[0m\u001B[0;34m.\u001B[0m\u001B[0myear_of_release\u001B[0m \u001B[0;34m=\u001B[0m \u001B[0mdf\u001B[0m\u001B[0;34m.\u001B[0m\u001B[0myear_of_release\u001B[0m\u001B[0;34m.\u001B[0m\u001B[0mastype\u001B[0m\u001B[0;34m(\u001B[0m\u001B[0;34m'int'\u001B[0m\u001B[0;34m)\u001B[0m\u001B[0;34m\u001B[0m\u001B[0;34m\u001B[0m\u001B[0m\n\u001B[0m\u001B[1;32m      2\u001B[0m \u001B[0mdf\u001B[0m\u001B[0;34m.\u001B[0m\u001B[0muser_score\u001B[0m \u001B[0;34m=\u001B[0m \u001B[0mdf\u001B[0m\u001B[0;34m.\u001B[0m\u001B[0muser_score\u001B[0m\u001B[0;34m.\u001B[0m\u001B[0mastype\u001B[0m\u001B[0;34m(\u001B[0m\u001B[0;34m'float'\u001B[0m\u001B[0;34m)\u001B[0m\u001B[0;34m\u001B[0m\u001B[0;34m\u001B[0m\u001B[0m\n",
      "\u001B[0;32m~/Library/Python/3.8/lib/python/site-packages/pandas/core/generic.py\u001B[0m in \u001B[0;36mastype\u001B[0;34m(self, dtype, copy, errors)\u001B[0m\n\u001B[1;32m   5872\u001B[0m         \u001B[0;32melse\u001B[0m\u001B[0;34m:\u001B[0m\u001B[0;34m\u001B[0m\u001B[0;34m\u001B[0m\u001B[0m\n\u001B[1;32m   5873\u001B[0m             \u001B[0;31m# else, only a single dtype is given\u001B[0m\u001B[0;34m\u001B[0m\u001B[0;34m\u001B[0m\u001B[0;34m\u001B[0m\u001B[0m\n\u001B[0;32m-> 5874\u001B[0;31m             \u001B[0mnew_data\u001B[0m \u001B[0;34m=\u001B[0m \u001B[0mself\u001B[0m\u001B[0;34m.\u001B[0m\u001B[0m_mgr\u001B[0m\u001B[0;34m.\u001B[0m\u001B[0mastype\u001B[0m\u001B[0;34m(\u001B[0m\u001B[0mdtype\u001B[0m\u001B[0;34m=\u001B[0m\u001B[0mdtype\u001B[0m\u001B[0;34m,\u001B[0m \u001B[0mcopy\u001B[0m\u001B[0;34m=\u001B[0m\u001B[0mcopy\u001B[0m\u001B[0;34m,\u001B[0m \u001B[0merrors\u001B[0m\u001B[0;34m=\u001B[0m\u001B[0merrors\u001B[0m\u001B[0;34m)\u001B[0m\u001B[0;34m\u001B[0m\u001B[0;34m\u001B[0m\u001B[0m\n\u001B[0m\u001B[1;32m   5875\u001B[0m             \u001B[0;32mreturn\u001B[0m \u001B[0mself\u001B[0m\u001B[0;34m.\u001B[0m\u001B[0m_constructor\u001B[0m\u001B[0;34m(\u001B[0m\u001B[0mnew_data\u001B[0m\u001B[0;34m)\u001B[0m\u001B[0;34m.\u001B[0m\u001B[0m__finalize__\u001B[0m\u001B[0;34m(\u001B[0m\u001B[0mself\u001B[0m\u001B[0;34m,\u001B[0m \u001B[0mmethod\u001B[0m\u001B[0;34m=\u001B[0m\u001B[0;34m\"astype\"\u001B[0m\u001B[0;34m)\u001B[0m\u001B[0;34m\u001B[0m\u001B[0;34m\u001B[0m\u001B[0m\n\u001B[1;32m   5876\u001B[0m \u001B[0;34m\u001B[0m\u001B[0m\n",
      "\u001B[0;32m~/Library/Python/3.8/lib/python/site-packages/pandas/core/internals/managers.py\u001B[0m in \u001B[0;36mastype\u001B[0;34m(self, dtype, copy, errors)\u001B[0m\n\u001B[1;32m    629\u001B[0m         \u001B[0mself\u001B[0m\u001B[0;34m,\u001B[0m \u001B[0mdtype\u001B[0m\u001B[0;34m,\u001B[0m \u001B[0mcopy\u001B[0m\u001B[0;34m:\u001B[0m \u001B[0mbool\u001B[0m \u001B[0;34m=\u001B[0m \u001B[0;32mFalse\u001B[0m\u001B[0;34m,\u001B[0m \u001B[0merrors\u001B[0m\u001B[0;34m:\u001B[0m \u001B[0mstr\u001B[0m \u001B[0;34m=\u001B[0m \u001B[0;34m\"raise\"\u001B[0m\u001B[0;34m\u001B[0m\u001B[0;34m\u001B[0m\u001B[0m\n\u001B[1;32m    630\u001B[0m     ) -> \"BlockManager\":\n\u001B[0;32m--> 631\u001B[0;31m         \u001B[0;32mreturn\u001B[0m \u001B[0mself\u001B[0m\u001B[0;34m.\u001B[0m\u001B[0mapply\u001B[0m\u001B[0;34m(\u001B[0m\u001B[0;34m\"astype\"\u001B[0m\u001B[0;34m,\u001B[0m \u001B[0mdtype\u001B[0m\u001B[0;34m=\u001B[0m\u001B[0mdtype\u001B[0m\u001B[0;34m,\u001B[0m \u001B[0mcopy\u001B[0m\u001B[0;34m=\u001B[0m\u001B[0mcopy\u001B[0m\u001B[0;34m,\u001B[0m \u001B[0merrors\u001B[0m\u001B[0;34m=\u001B[0m\u001B[0merrors\u001B[0m\u001B[0;34m)\u001B[0m\u001B[0;34m\u001B[0m\u001B[0;34m\u001B[0m\u001B[0m\n\u001B[0m\u001B[1;32m    632\u001B[0m \u001B[0;34m\u001B[0m\u001B[0m\n\u001B[1;32m    633\u001B[0m     def convert(\n",
      "\u001B[0;32m~/Library/Python/3.8/lib/python/site-packages/pandas/core/internals/managers.py\u001B[0m in \u001B[0;36mapply\u001B[0;34m(self, f, align_keys, ignore_failures, **kwargs)\u001B[0m\n\u001B[1;32m    425\u001B[0m                     \u001B[0mapplied\u001B[0m \u001B[0;34m=\u001B[0m \u001B[0mb\u001B[0m\u001B[0;34m.\u001B[0m\u001B[0mapply\u001B[0m\u001B[0;34m(\u001B[0m\u001B[0mf\u001B[0m\u001B[0;34m,\u001B[0m \u001B[0;34m**\u001B[0m\u001B[0mkwargs\u001B[0m\u001B[0;34m)\u001B[0m\u001B[0;34m\u001B[0m\u001B[0;34m\u001B[0m\u001B[0m\n\u001B[1;32m    426\u001B[0m                 \u001B[0;32melse\u001B[0m\u001B[0;34m:\u001B[0m\u001B[0;34m\u001B[0m\u001B[0;34m\u001B[0m\u001B[0m\n\u001B[0;32m--> 427\u001B[0;31m                     \u001B[0mapplied\u001B[0m \u001B[0;34m=\u001B[0m \u001B[0mgetattr\u001B[0m\u001B[0;34m(\u001B[0m\u001B[0mb\u001B[0m\u001B[0;34m,\u001B[0m \u001B[0mf\u001B[0m\u001B[0;34m)\u001B[0m\u001B[0;34m(\u001B[0m\u001B[0;34m**\u001B[0m\u001B[0mkwargs\u001B[0m\u001B[0;34m)\u001B[0m\u001B[0;34m\u001B[0m\u001B[0;34m\u001B[0m\u001B[0m\n\u001B[0m\u001B[1;32m    428\u001B[0m             \u001B[0;32mexcept\u001B[0m \u001B[0;34m(\u001B[0m\u001B[0mTypeError\u001B[0m\u001B[0;34m,\u001B[0m \u001B[0mNotImplementedError\u001B[0m\u001B[0;34m)\u001B[0m\u001B[0;34m:\u001B[0m\u001B[0;34m\u001B[0m\u001B[0;34m\u001B[0m\u001B[0m\n\u001B[1;32m    429\u001B[0m                 \u001B[0;32mif\u001B[0m \u001B[0;32mnot\u001B[0m \u001B[0mignore_failures\u001B[0m\u001B[0;34m:\u001B[0m\u001B[0;34m\u001B[0m\u001B[0;34m\u001B[0m\u001B[0m\n",
      "\u001B[0;32m~/Library/Python/3.8/lib/python/site-packages/pandas/core/internals/blocks.py\u001B[0m in \u001B[0;36mastype\u001B[0;34m(self, dtype, copy, errors)\u001B[0m\n\u001B[1;32m    671\u001B[0m             \u001B[0mvals1d\u001B[0m \u001B[0;34m=\u001B[0m \u001B[0mvalues\u001B[0m\u001B[0;34m.\u001B[0m\u001B[0mravel\u001B[0m\u001B[0;34m(\u001B[0m\u001B[0;34m)\u001B[0m\u001B[0;34m\u001B[0m\u001B[0;34m\u001B[0m\u001B[0m\n\u001B[1;32m    672\u001B[0m             \u001B[0;32mtry\u001B[0m\u001B[0;34m:\u001B[0m\u001B[0;34m\u001B[0m\u001B[0;34m\u001B[0m\u001B[0m\n\u001B[0;32m--> 673\u001B[0;31m                 \u001B[0mvalues\u001B[0m \u001B[0;34m=\u001B[0m \u001B[0mastype_nansafe\u001B[0m\u001B[0;34m(\u001B[0m\u001B[0mvals1d\u001B[0m\u001B[0;34m,\u001B[0m \u001B[0mdtype\u001B[0m\u001B[0;34m,\u001B[0m \u001B[0mcopy\u001B[0m\u001B[0;34m=\u001B[0m\u001B[0;32mTrue\u001B[0m\u001B[0;34m)\u001B[0m\u001B[0;34m\u001B[0m\u001B[0;34m\u001B[0m\u001B[0m\n\u001B[0m\u001B[1;32m    674\u001B[0m             \u001B[0;32mexcept\u001B[0m \u001B[0;34m(\u001B[0m\u001B[0mValueError\u001B[0m\u001B[0;34m,\u001B[0m \u001B[0mTypeError\u001B[0m\u001B[0;34m)\u001B[0m\u001B[0;34m:\u001B[0m\u001B[0;34m\u001B[0m\u001B[0;34m\u001B[0m\u001B[0m\n\u001B[1;32m    675\u001B[0m                 \u001B[0;31m# e.g. astype_nansafe can fail on object-dtype of strings\u001B[0m\u001B[0;34m\u001B[0m\u001B[0;34m\u001B[0m\u001B[0;34m\u001B[0m\u001B[0m\n",
      "\u001B[0;32m~/Library/Python/3.8/lib/python/site-packages/pandas/core/dtypes/cast.py\u001B[0m in \u001B[0;36mastype_nansafe\u001B[0;34m(arr, dtype, copy, skipna)\u001B[0m\n\u001B[1;32m   1066\u001B[0m \u001B[0;34m\u001B[0m\u001B[0m\n\u001B[1;32m   1067\u001B[0m         \u001B[0;32mif\u001B[0m \u001B[0;32mnot\u001B[0m \u001B[0mnp\u001B[0m\u001B[0;34m.\u001B[0m\u001B[0misfinite\u001B[0m\u001B[0;34m(\u001B[0m\u001B[0marr\u001B[0m\u001B[0;34m)\u001B[0m\u001B[0;34m.\u001B[0m\u001B[0mall\u001B[0m\u001B[0;34m(\u001B[0m\u001B[0;34m)\u001B[0m\u001B[0;34m:\u001B[0m\u001B[0;34m\u001B[0m\u001B[0;34m\u001B[0m\u001B[0m\n\u001B[0;32m-> 1068\u001B[0;31m             \u001B[0;32mraise\u001B[0m \u001B[0mValueError\u001B[0m\u001B[0;34m(\u001B[0m\u001B[0;34m\"Cannot convert non-finite values (NA or inf) to integer\"\u001B[0m\u001B[0;34m)\u001B[0m\u001B[0;34m\u001B[0m\u001B[0;34m\u001B[0m\u001B[0m\n\u001B[0m\u001B[1;32m   1069\u001B[0m \u001B[0;34m\u001B[0m\u001B[0m\n\u001B[1;32m   1070\u001B[0m     \u001B[0;32melif\u001B[0m \u001B[0mis_object_dtype\u001B[0m\u001B[0;34m(\u001B[0m\u001B[0marr\u001B[0m\u001B[0;34m)\u001B[0m\u001B[0;34m:\u001B[0m\u001B[0;34m\u001B[0m\u001B[0;34m\u001B[0m\u001B[0m\n",
      "\u001B[0;31mValueError\u001B[0m: Cannot convert non-finite values (NA or inf) to integer"
     ]
    }
   ],
   "source": [
    "df.year_of_release = df.year_of_release.astype('int')\n",
    "df.user_score = df.user_score.astype('float')"
   ],
   "metadata": {
    "collapsed": false,
    "pycharm": {
     "name": "#%%\n"
    }
   }
  },
  {
   "cell_type": "code",
   "execution_count": 61,
   "outputs": [
    {
     "data": {
      "text/plain": "                                           name platform  year_of_release  \\\n119                               Zumba Fitness      Wii           2010.0   \n301              Namco Museum: 50th Anniversary      PS2           2005.0   \n520                             Zumba Fitness 2      Wii           2011.0   \n645                                uDraw Studio      Wii           2010.0   \n657    Frogger's Adventures: Temple of the Frog      GBA              NaN   \n...                                         ...      ...              ...   \n16695                           Planet Monsters      GBA           2001.0   \n16697                          Bust-A-Move 3000       GC           2003.0   \n16698                          Mega Brain Boost       DS           2008.0   \n16704                                  Plushees       DS           2008.0   \n16706             Men in Black II: Alien Escape       GC           2003.0   \n\n            genre  na_sales  eu_sales  jp_sales  other_sales  critic_score  \\\n119        Sports      3.45      2.59       0.0         0.66           NaN   \n301          Misc      2.08      1.35       0.0         0.54          61.0   \n520        Sports      1.51      1.03       0.0         0.27           NaN   \n645          Misc      1.65      0.57       0.0         0.20          71.0   \n657     Adventure      2.15      0.18       0.0         0.07          73.0   \n...           ...       ...       ...       ...          ...           ...   \n16695      Action      0.01      0.00       0.0         0.00          67.0   \n16697      Puzzle      0.01      0.00       0.0         0.00          53.0   \n16698      Puzzle      0.01      0.00       0.0         0.00          48.0   \n16704  Simulation      0.01      0.00       0.0         0.00           NaN   \n16706     Shooter      0.01      0.00       0.0         0.00           NaN   \n\n      user_score rating  \n119          tbd      E  \n301          tbd   E10+  \n520          tbd      T  \n645          tbd      E  \n657          tbd      E  \n...          ...    ...  \n16695        tbd      E  \n16697        tbd      E  \n16698        tbd      E  \n16704        tbd      E  \n16706        tbd      T  \n\n[2424 rows x 11 columns]",
      "text/html": "<div>\n<style scoped>\n    .dataframe tbody tr th:only-of-type {\n        vertical-align: middle;\n    }\n\n    .dataframe tbody tr th {\n        vertical-align: top;\n    }\n\n    .dataframe thead th {\n        text-align: right;\n    }\n</style>\n<table border=\"1\" class=\"dataframe\">\n  <thead>\n    <tr style=\"text-align: right;\">\n      <th></th>\n      <th>name</th>\n      <th>platform</th>\n      <th>year_of_release</th>\n      <th>genre</th>\n      <th>na_sales</th>\n      <th>eu_sales</th>\n      <th>jp_sales</th>\n      <th>other_sales</th>\n      <th>critic_score</th>\n      <th>user_score</th>\n      <th>rating</th>\n    </tr>\n  </thead>\n  <tbody>\n    <tr>\n      <th>119</th>\n      <td>Zumba Fitness</td>\n      <td>Wii</td>\n      <td>2010.0</td>\n      <td>Sports</td>\n      <td>3.45</td>\n      <td>2.59</td>\n      <td>0.0</td>\n      <td>0.66</td>\n      <td>NaN</td>\n      <td>tbd</td>\n      <td>E</td>\n    </tr>\n    <tr>\n      <th>301</th>\n      <td>Namco Museum: 50th Anniversary</td>\n      <td>PS2</td>\n      <td>2005.0</td>\n      <td>Misc</td>\n      <td>2.08</td>\n      <td>1.35</td>\n      <td>0.0</td>\n      <td>0.54</td>\n      <td>61.0</td>\n      <td>tbd</td>\n      <td>E10+</td>\n    </tr>\n    <tr>\n      <th>520</th>\n      <td>Zumba Fitness 2</td>\n      <td>Wii</td>\n      <td>2011.0</td>\n      <td>Sports</td>\n      <td>1.51</td>\n      <td>1.03</td>\n      <td>0.0</td>\n      <td>0.27</td>\n      <td>NaN</td>\n      <td>tbd</td>\n      <td>T</td>\n    </tr>\n    <tr>\n      <th>645</th>\n      <td>uDraw Studio</td>\n      <td>Wii</td>\n      <td>2010.0</td>\n      <td>Misc</td>\n      <td>1.65</td>\n      <td>0.57</td>\n      <td>0.0</td>\n      <td>0.20</td>\n      <td>71.0</td>\n      <td>tbd</td>\n      <td>E</td>\n    </tr>\n    <tr>\n      <th>657</th>\n      <td>Frogger's Adventures: Temple of the Frog</td>\n      <td>GBA</td>\n      <td>NaN</td>\n      <td>Adventure</td>\n      <td>2.15</td>\n      <td>0.18</td>\n      <td>0.0</td>\n      <td>0.07</td>\n      <td>73.0</td>\n      <td>tbd</td>\n      <td>E</td>\n    </tr>\n    <tr>\n      <th>...</th>\n      <td>...</td>\n      <td>...</td>\n      <td>...</td>\n      <td>...</td>\n      <td>...</td>\n      <td>...</td>\n      <td>...</td>\n      <td>...</td>\n      <td>...</td>\n      <td>...</td>\n      <td>...</td>\n    </tr>\n    <tr>\n      <th>16695</th>\n      <td>Planet Monsters</td>\n      <td>GBA</td>\n      <td>2001.0</td>\n      <td>Action</td>\n      <td>0.01</td>\n      <td>0.00</td>\n      <td>0.0</td>\n      <td>0.00</td>\n      <td>67.0</td>\n      <td>tbd</td>\n      <td>E</td>\n    </tr>\n    <tr>\n      <th>16697</th>\n      <td>Bust-A-Move 3000</td>\n      <td>GC</td>\n      <td>2003.0</td>\n      <td>Puzzle</td>\n      <td>0.01</td>\n      <td>0.00</td>\n      <td>0.0</td>\n      <td>0.00</td>\n      <td>53.0</td>\n      <td>tbd</td>\n      <td>E</td>\n    </tr>\n    <tr>\n      <th>16698</th>\n      <td>Mega Brain Boost</td>\n      <td>DS</td>\n      <td>2008.0</td>\n      <td>Puzzle</td>\n      <td>0.01</td>\n      <td>0.00</td>\n      <td>0.0</td>\n      <td>0.00</td>\n      <td>48.0</td>\n      <td>tbd</td>\n      <td>E</td>\n    </tr>\n    <tr>\n      <th>16704</th>\n      <td>Plushees</td>\n      <td>DS</td>\n      <td>2008.0</td>\n      <td>Simulation</td>\n      <td>0.01</td>\n      <td>0.00</td>\n      <td>0.0</td>\n      <td>0.00</td>\n      <td>NaN</td>\n      <td>tbd</td>\n      <td>E</td>\n    </tr>\n    <tr>\n      <th>16706</th>\n      <td>Men in Black II: Alien Escape</td>\n      <td>GC</td>\n      <td>2003.0</td>\n      <td>Shooter</td>\n      <td>0.01</td>\n      <td>0.00</td>\n      <td>0.0</td>\n      <td>0.00</td>\n      <td>NaN</td>\n      <td>tbd</td>\n      <td>T</td>\n    </tr>\n  </tbody>\n</table>\n<p>2424 rows × 11 columns</p>\n</div>"
     },
     "execution_count": 61,
     "metadata": {},
     "output_type": "execute_result"
    }
   ],
   "source": [
    "\n",
    "\n",
    "df[df.user_score == 'tbd']"
   ],
   "metadata": {
    "collapsed": false,
    "pycharm": {
     "name": "#%%\n"
    }
   }
  },
  {
   "cell_type": "code",
   "execution_count": null,
   "outputs": [],
   "source": [
    "\n"
   ],
   "metadata": {
    "collapsed": false,
    "pycharm": {
     "name": "#%%\n"
    }
   }
  }
 ],
 "metadata": {
  "kernelspec": {
   "display_name": "Python 3",
   "language": "python",
   "name": "python3"
  },
  "language_info": {
   "codemirror_mode": {
    "name": "ipython",
    "version": 3
   },
   "file_extension": ".py",
   "mimetype": "text/x-python",
   "name": "python",
   "nbconvert_exporter": "python",
   "pygments_lexer": "ipython3",
   "version": "3.7.4"
  }
 },
 "nbformat": 4,
 "nbformat_minor": 2
}