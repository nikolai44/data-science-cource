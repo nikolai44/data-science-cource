{
 "cells": [
  {
   "cell_type": "markdown",
   "source": [
    "# Этап 1. Получение данных\n"
   ],
   "metadata": {
    "collapsed": false
   }
  }
 ],
 "metadata": {
  "kernelspec": {
   "name": "pycharm-b07eb336",
   "language": "python",
   "display_name": "PyCharm (data-science-cource)"
  },
  "language_info": {
   "codemirror_mode": {
    "name": "ipython",
    "version": 3
   },
   "file_extension": ".py",
   "mimetype": "text/x-python",
   "name": "python",
   "nbconvert_exporter": "python",
   "pygments_lexer": "ipython3",
   "version": "3.7.3"
  }
 },
 "nbformat": 4,
 "nbformat_minor": 1
}