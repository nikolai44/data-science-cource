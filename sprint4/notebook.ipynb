{
 "cells": [
  {
   "cell_type": "markdown",
   "source": [
    "# Определение перспективного тарифа для телеком компании"
   ],
   "metadata": {
    "collapsed": false
   }
  },
  {
   "cell_type": "markdown",
   "source": [
    "Вы аналитик компании «Мегалайн» — федерального оператора сотовой связи. Клиентам предлагают два тарифных плана: «Смарт» и «Ультра».\n",
    "\n",
    "**Тариф «Смарт»**\n",
    "\n",
    "1. Ежемесячная плата: 550 рублей\n",
    "2. Включено 500 минут разговора, 50 сообщений и 15 Гб интернет-трафика\n",
    "3. Стоимость услуг сверх тарифного пакета:\n",
    "    - минута разговора: 3 рубля\n",
    "    - сообщение: 3 рубля\n",
    "    - 1 Гб интернет-трафика: 200 рублей\n",
    "\n",
    "**Тариф «Ультра»**\n",
    "\n",
    "1. Ежемесячная плата: 1950 рублей\n",
    "2. Включено 3000 минут разговора, 1000 сообщений и 30 Гб интернет-трафика\n",
    "3. Стоимость услуг сверх тарифного пакета:\n",
    "    - минута разговора: 1 рубль\n",
    "    - сообщение: 1 рубль\n",
    "    - 1 Гб интернет-трафика: 150 рублей\n",
    "\n",
    "Чтобы скорректировать рекламный бюджет, коммерческий департамент хочет понять, **какой тариф приносит больше денег**.\n",
    "\n",
    "В вашем распоряжении данные 500 пользователей «Мегалайна»: кто они, откуда, каким тарифом пользуются, сколько звонков и сообщений каждый отправил за 2018 год.\n",
    "\n",
    "🎯 Нужно проанализировать поведение клиентов и сделать вывод — **какой тариф лучше**."
   ],
   "metadata": {
    "collapsed": false
   }
  },
  {
   "cell_type": "markdown",
   "source": [
    "## Changelog\n",
    "\n",
    "- При слиянии датафреймов используется параметр `how='outer'` вместо `right` для того, чтобы получить записи по ключам из обоих датасетов;\n",
    "- Дисперсия и другие метрики считаются не по агрегированным данным. Описание шага 3 ввело в заблуждение;\n",
    "- Скорректированы выводы."
   ],
   "metadata": {
    "collapsed": false
   }
  },
  {
   "cell_type": "markdown",
   "source": [
    "## Шаг 1. Откроем файлы с данными и изучим общую информацию"
   ],
   "metadata": {
    "collapsed": false
   }
  },
  {
   "cell_type": "code",
   "execution_count": 1,
   "outputs": [],
   "source": [
    "import numpy as np\n",
    "import pandas as pd\n",
    "import matplotlib.pyplot as plt\n",
    "from scipy import stats as st"
   ],
   "metadata": {
    "collapsed": false,
    "pycharm": {
     "name": "#%%\n"
    }
   }
  },
  {
   "cell_type": "code",
   "execution_count": 2,
   "outputs": [],
   "source": [
    "calls = pd.read_csv('calls.csv')\n",
    "internet = pd.read_csv('internet.csv')\n",
    "messages = pd.read_csv('messages.csv')\n",
    "tariffs = pd.read_csv('tariffs.csv')\n",
    "users = pd.read_csv('users.csv')"
   ],
   "metadata": {
    "collapsed": false,
    "pycharm": {
     "name": "#%%\n"
    }
   }
  },
  {
   "cell_type": "markdown",
   "source": [
    "Для начала рассмотрим каждый из датасетов по отдельности. При необходимости будем соединять данные."
   ],
   "metadata": {
    "collapsed": false
   }
  },
  {
   "cell_type": "markdown",
   "source": [
    "### Тарифы"
   ],
   "metadata": {
    "collapsed": false
   }
  },
  {
   "cell_type": "code",
   "execution_count": 3,
   "outputs": [
    {
     "name": "stdout",
     "output_type": "stream",
     "text": [
      "<class 'pandas.core.frame.DataFrame'>\n",
      "RangeIndex: 2 entries, 0 to 1\n",
      "Data columns (total 8 columns):\n",
      " #   Column                 Non-Null Count  Dtype \n",
      "---  ------                 --------------  ----- \n",
      " 0   messages_included      2 non-null      int64 \n",
      " 1   mg_per_month_included  2 non-null      int64 \n",
      " 2   minutes_included       2 non-null      int64 \n",
      " 3   rub_monthly_fee        2 non-null      int64 \n",
      " 4   rub_per_gb             2 non-null      int64 \n",
      " 5   rub_per_message        2 non-null      int64 \n",
      " 6   rub_per_minute         2 non-null      int64 \n",
      " 7   tariff_name            2 non-null      object\n",
      "dtypes: int64(7), object(1)\n",
      "memory usage: 256.0+ bytes\n"
     ]
    }
   ],
   "source": [
    "tariffs.info()"
   ],
   "metadata": {
    "collapsed": false,
    "pycharm": {
     "name": "#%%\n"
    }
   }
  },
  {
   "cell_type": "code",
   "execution_count": 4,
   "outputs": [],
   "source": [
    "'''\n",
    "    Сразу же переименуем колонку с названием тарифа, чтобы в дальнейшем у нас была возможность применить merge по ней.\n",
    "    Также исправим ошибку в названии признака объёма интернет-трафика.\n",
    "'''\n",
    "tariffs = tariffs.rename(columns={'tariff_name': 'tariff', 'mg_per_month_included': 'mb_per_month_included'})"
   ],
   "metadata": {
    "collapsed": false,
    "pycharm": {
     "name": "#%%\n"
    }
   }
  },
  {
   "cell_type": "code",
   "execution_count": 5,
   "outputs": [
    {
     "data": {
      "text/plain": "   messages_included  mb_per_month_included  minutes_included  \\\n0                 50                  15360               500   \n1               1000                  30720              3000   \n\n   rub_monthly_fee  rub_per_gb  rub_per_message  rub_per_minute tariff  \n0              550         200                3               3  smart  \n1             1950         150                1               1  ultra  ",
      "text/html": "<div>\n<style scoped>\n    .dataframe tbody tr th:only-of-type {\n        vertical-align: middle;\n    }\n\n    .dataframe tbody tr th {\n        vertical-align: top;\n    }\n\n    .dataframe thead th {\n        text-align: right;\n    }\n</style>\n<table border=\"1\" class=\"dataframe\">\n  <thead>\n    <tr style=\"text-align: right;\">\n      <th></th>\n      <th>messages_included</th>\n      <th>mb_per_month_included</th>\n      <th>minutes_included</th>\n      <th>rub_monthly_fee</th>\n      <th>rub_per_gb</th>\n      <th>rub_per_message</th>\n      <th>rub_per_minute</th>\n      <th>tariff</th>\n    </tr>\n  </thead>\n  <tbody>\n    <tr>\n      <th>0</th>\n      <td>50</td>\n      <td>15360</td>\n      <td>500</td>\n      <td>550</td>\n      <td>200</td>\n      <td>3</td>\n      <td>3</td>\n      <td>smart</td>\n    </tr>\n    <tr>\n      <th>1</th>\n      <td>1000</td>\n      <td>30720</td>\n      <td>3000</td>\n      <td>1950</td>\n      <td>150</td>\n      <td>1</td>\n      <td>1</td>\n      <td>ultra</td>\n    </tr>\n  </tbody>\n</table>\n</div>"
     },
     "execution_count": 5,
     "metadata": {},
     "output_type": "execute_result"
    }
   ],
   "source": [
    "tariffs"
   ],
   "metadata": {
    "collapsed": false,
    "pycharm": {
     "name": "#%%\n"
    }
   }
  },
  {
   "cell_type": "markdown",
   "source": [
    "С типами данных все ок.\n",
    "\n",
    "📝 Объём интернет-трафика, включённого в абонентскую плату, указан в мегабайтах, а стоимость дополнительного объема интернет-трафика в рублях за гигабайт."
   ],
   "metadata": {
    "collapsed": false
   }
  },
  {
   "cell_type": "markdown",
   "source": [
    "- Приведите данные к нужным типам;\n",
    "- Найдите и исправьте ошибки в данных.\n",
    "\n",
    "Поясните, какие ошибки вы нашли и как их исправили.\n",
    "Обратите внимание, что у большого количества звонков длительность — 0.0 минут. Это проблема в данных, нужна предобработка.\n"
   ],
   "metadata": {
    "collapsed": false,
    "pycharm": {
     "name": "#%% md\n"
    }
   }
  },
  {
   "cell_type": "code",
   "execution_count": 5,
   "outputs": [],
   "source": [],
   "metadata": {
    "collapsed": false,
    "pycharm": {
     "name": "#%%\n"
    }
   }
  },
  {
   "cell_type": "code",
   "execution_count": 6,
   "outputs": [],
   "source": [
    "calls.duration.replace(0.0, np.nan, inplace=True)\n",
    "calls.duration.fillna(calls.duration.mean(), inplace=True)\n",
    "\n",
    "calls.call_date = pd.to_datetime(calls.call_date)"
   ],
   "metadata": {
    "collapsed": false,
    "pycharm": {
     "name": "#%%\n"
    }
   }
  },
  {
   "cell_type": "code",
   "execution_count": 7,
   "outputs": [],
   "source": [
    "internet.mb_used.replace(0.0, np.nan, inplace=True)\n",
    "internet.mb_used.fillna(internet.mb_used.mean(), inplace=True)\n",
    "\n",
    "internet.session_date = pd.to_datetime(internet.session_date)"
   ],
   "metadata": {
    "collapsed": false,
    "pycharm": {
     "name": "#%%\n"
    }
   }
  },
  {
   "cell_type": "code",
   "execution_count": 8,
   "outputs": [],
   "source": [
    "messages.message_date = pd.to_datetime(messages.message_date)"
   ],
   "metadata": {
    "collapsed": false,
    "pycharm": {
     "name": "#%%\n"
    }
   }
  },
  {
   "cell_type": "code",
   "execution_count": 9,
   "outputs": [],
   "source": [
    "users.churn_date = pd.to_datetime(users.churn_date)\n",
    "users.reg_date = pd.to_datetime(users.reg_date)"
   ],
   "metadata": {
    "collapsed": false,
    "pycharm": {
     "name": "#%%\n"
    }
   }
  },
  {
   "cell_type": "markdown",
   "source": [
    "Посчитайте для каждого пользователя:\n",
    "\n",
    "- количество сделанных звонков и израсходованных минут разговора по месяцам;\n",
    "- количество отправленных сообщений по месяцам;\n",
    "- объем израсходованного интернет-трафика по месяцам;\n",
    "- помесячную выручку с каждого пользователя (вычтите бесплатный лимит из суммарного количества звонков, сообщений и интернет-трафика; остаток умножьте на значение из тарифного плана)."
   ],
   "metadata": {
    "collapsed": false,
    "pycharm": {
     "name": "#%% md\n"
    }
   }
  },
  {
   "cell_type": "code",
   "execution_count": 10,
   "outputs": [
    {
     "data": {
      "text/plain": "Index(['user_id', 'age', 'churn_date', 'city', 'first_name', 'last_name',\n       'reg_date', 'tariff'],\n      dtype='object')"
     },
     "execution_count": 10,
     "metadata": {},
     "output_type": "execute_result"
    }
   ],
   "source": [
    "users.columns"
   ],
   "metadata": {
    "collapsed": false,
    "pycharm": {
     "name": "#%%\n"
    }
   }
  },
  {
   "cell_type": "code",
   "execution_count": 29,
   "outputs": [
    {
     "name": "stderr",
     "output_type": "stream",
     "text": [
      "/Users/a18992739/Library/Python/3.8/lib/python/site-packages/pandas/core/frame.py:4459: SettingWithCopyWarning: \n",
      "A value is trying to be set on a copy of a slice from a DataFrame\n",
      "\n",
      "See the caveats in the documentation: https://pandas.pydata.org/pandas-docs/stable/user_guide/indexing.html#returning-a-view-versus-a-copy\n",
      "  return super().fillna(\n"
     ]
    }
   ],
   "source": [
    "df = users.merge(calls, on='user_id')\n",
    "df.rename(columns={'id': 'call_id'}, inplace=True)\n",
    "df['month'] = df.call_date.dt.month\n",
    "df['calls_num'] = df.groupby(['user_id', 'month']).duration.transform('count')\n",
    "df['calls_duration'] = df.groupby(['user_id', 'month']).duration.transform('sum')\n",
    "\n",
    "total = df[['user_id', 'month', 'calls_num', 'calls_duration']].drop_duplicates(['user_id', 'month'])\n",
    "total[['calls_num', 'calls_duration']].fillna(0, inplace=True)"
   ],
   "metadata": {
    "collapsed": false,
    "pycharm": {
     "name": "#%%\n"
    }
   }
  },
  {
   "cell_type": "code",
   "execution_count": 30,
   "outputs": [],
   "source": [
    "df_msgs = users.merge(messages, on=['user_id'])\n",
    "df_msgs.rename(columns={'id': 'msg_id'}, inplace=True)\n",
    "df_msgs['month'] = df_msgs.message_date.dt.month\n",
    "msgs = df_msgs.groupby(['user_id', 'month'], as_index=False).msg_id.count()\n",
    "msgs.rename(columns={'msg_id': 'msgs_num'}, inplace=True)\n",
    "\n",
    "total = total.merge(msgs, on=['user_id', 'month'], how='outer')\n",
    "total.msgs_num.fillna(0, inplace=True)"
   ],
   "metadata": {
    "collapsed": false,
    "pycharm": {
     "name": "#%%\n"
    }
   }
  },
  {
   "cell_type": "code",
   "execution_count": 31,
   "outputs": [
    {
     "data": {
      "text/plain": "      user_id  month  calls_num  calls_duration  msgs_num       mb_used\n0        1000      7       47.0      369.186764      75.0  14429.727210\n1        1000      8       52.0      473.847940      81.0  14908.104421\n2        1000      6       43.0      284.866910      60.0  25364.206052\n3        1000      9       58.0      540.913528      57.0  15421.084421\n4        1000     12       46.0      380.162352      70.0  10669.784421\n...       ...    ...        ...             ...       ...           ...\n3209     1489      9        NaN             NaN      32.0  23171.520945\n3210     1489     10        NaN             NaN      21.0  24246.399314\n3211     1489     11        NaN             NaN      20.0  21752.432104\n3212     1489     12        NaN             NaN      35.0  20731.207683\n3213     1476      4        NaN             NaN       NaN    530.780000\n\n[3214 rows x 6 columns]",
      "text/html": "<div>\n<style scoped>\n    .dataframe tbody tr th:only-of-type {\n        vertical-align: middle;\n    }\n\n    .dataframe tbody tr th {\n        vertical-align: top;\n    }\n\n    .dataframe thead th {\n        text-align: right;\n    }\n</style>\n<table border=\"1\" class=\"dataframe\">\n  <thead>\n    <tr style=\"text-align: right;\">\n      <th></th>\n      <th>user_id</th>\n      <th>month</th>\n      <th>calls_num</th>\n      <th>calls_duration</th>\n      <th>msgs_num</th>\n      <th>mb_used</th>\n    </tr>\n  </thead>\n  <tbody>\n    <tr>\n      <th>0</th>\n      <td>1000</td>\n      <td>7</td>\n      <td>47.0</td>\n      <td>369.186764</td>\n      <td>75.0</td>\n      <td>14429.727210</td>\n    </tr>\n    <tr>\n      <th>1</th>\n      <td>1000</td>\n      <td>8</td>\n      <td>52.0</td>\n      <td>473.847940</td>\n      <td>81.0</td>\n      <td>14908.104421</td>\n    </tr>\n    <tr>\n      <th>2</th>\n      <td>1000</td>\n      <td>6</td>\n      <td>43.0</td>\n      <td>284.866910</td>\n      <td>60.0</td>\n      <td>25364.206052</td>\n    </tr>\n    <tr>\n      <th>3</th>\n      <td>1000</td>\n      <td>9</td>\n      <td>58.0</td>\n      <td>540.913528</td>\n      <td>57.0</td>\n      <td>15421.084421</td>\n    </tr>\n    <tr>\n      <th>4</th>\n      <td>1000</td>\n      <td>12</td>\n      <td>46.0</td>\n      <td>380.162352</td>\n      <td>70.0</td>\n      <td>10669.784421</td>\n    </tr>\n    <tr>\n      <th>...</th>\n      <td>...</td>\n      <td>...</td>\n      <td>...</td>\n      <td>...</td>\n      <td>...</td>\n      <td>...</td>\n    </tr>\n    <tr>\n      <th>3209</th>\n      <td>1489</td>\n      <td>9</td>\n      <td>NaN</td>\n      <td>NaN</td>\n      <td>32.0</td>\n      <td>23171.520945</td>\n    </tr>\n    <tr>\n      <th>3210</th>\n      <td>1489</td>\n      <td>10</td>\n      <td>NaN</td>\n      <td>NaN</td>\n      <td>21.0</td>\n      <td>24246.399314</td>\n    </tr>\n    <tr>\n      <th>3211</th>\n      <td>1489</td>\n      <td>11</td>\n      <td>NaN</td>\n      <td>NaN</td>\n      <td>20.0</td>\n      <td>21752.432104</td>\n    </tr>\n    <tr>\n      <th>3212</th>\n      <td>1489</td>\n      <td>12</td>\n      <td>NaN</td>\n      <td>NaN</td>\n      <td>35.0</td>\n      <td>20731.207683</td>\n    </tr>\n    <tr>\n      <th>3213</th>\n      <td>1476</td>\n      <td>4</td>\n      <td>NaN</td>\n      <td>NaN</td>\n      <td>NaN</td>\n      <td>530.780000</td>\n    </tr>\n  </tbody>\n</table>\n<p>3214 rows × 6 columns</p>\n</div>"
     },
     "execution_count": 31,
     "metadata": {},
     "output_type": "execute_result"
    }
   ],
   "source": [
    "df = users.merge(internet, on='user_id')\n",
    "df.rename(columns={'id': 'internet_id'}, inplace=True)\n",
    "df['month'] = df.session_date.dt.month\n",
    "traffic = df.groupby(['user_id', 'month']).mb_used.sum()\n",
    "\n",
    "total = total.merge(traffic, on=['user_id', 'month'], how='outer')\n",
    "total.mb_used.fillna(0, inplace=True)\n",
    "total"
   ],
   "metadata": {
    "collapsed": false,
    "pycharm": {
     "name": "#%%\n"
    }
   }
  },
  {
   "cell_type": "code",
   "execution_count": 32,
   "outputs": [],
   "source": [
    "total = total.merge(users[['user_id', 'tariff']], on='user_id')\n",
    "total = total.merge(tariffs, on='tariff')"
   ],
   "metadata": {
    "collapsed": false,
    "pycharm": {
     "name": "#%%\n"
    }
   }
  },
  {
   "cell_type": "code",
   "execution_count": 33,
   "outputs": [],
   "source": [
    "total['extra_pay_voices'] = total.calls_duration - total.minutes_included\n",
    "total.loc[total['extra_pay_voices'] < 0, 'extra_pay_voices'] = 0\n",
    "\n",
    "total['extra_pay_messages'] = total.msgs_num - total.messages_included\n",
    "total.loc[total['extra_pay_messages'] < 0, 'extra_pay_messages'] = 0\n",
    "\n",
    "total['extra_pay_internet'] = total.mb_used - total.mb_per_month_included\n",
    "total.loc[total['extra_pay_internet'] < 0, 'extra_pay_internet'] = 0"
   ],
   "metadata": {
    "collapsed": false,
    "pycharm": {
     "name": "#%%\n"
    }
   }
  },
  {
   "cell_type": "code",
   "execution_count": 34,
   "outputs": [],
   "source": [
    "total['extra_pay'] = total.extra_pay_voices * total.rub_per_minute + \\\n",
    "                     total.extra_pay_messages * total.rub_per_message + \\\n",
    "                     total.extra_pay_internet * total.rub_per_gb / 1000"
   ],
   "metadata": {
    "collapsed": false,
    "pycharm": {
     "name": "#%%\n"
    }
   }
  },
  {
   "cell_type": "markdown",
   "source": [
    "## Шаг 3. Проанализируйте данные\n",
    "\n",
    "**Опишите поведение клиентов оператора, исходя из выборки.**\n",
    "две трети не выходят за рамки пакета\n",
    "переплачивающие тратят почти в три раза больше\n",
    "на смарте доплата в среднем в два раза больше"
   ],
   "metadata": {
    "collapsed": false,
    "pycharm": {
     "name": "#%% md\n"
    }
   }
  },
  {
   "cell_type": "markdown",
   "source": [
    "Сколько минут разговора, сколько сообщений и какой объём интернет-трафика требуется\n",
    "пользователям каждого тарифа в месяц?"
   ],
   "metadata": {
    "collapsed": false,
    "pycharm": {
     "name": "#%% md\n"
    }
   }
  },
  {
   "cell_type": "code",
   "execution_count": 35,
   "outputs": [
    {
     "data": {
      "text/plain": "            user_id     month  calls_num  calls_duration   msgs_num  \\\ntariff                                                                \nsmart   1246.506505  8.346792  58.621233      492.461005  33.384029   \nultra   1263.094416  8.250761  76.016824      637.971651  49.413618   \n\n             mb_used  messages_included  mb_per_month_included  \\\ntariff                                                           \nsmart   19615.364267               50.0                15360.0   \nultra   20236.627338             1000.0                30720.0   \n\n        minutes_included  rub_monthly_fee  rub_per_gb  rub_per_message  \\\ntariff                                                                   \nsmart              500.0            550.0       200.0              3.0   \nultra             3000.0           1950.0       150.0              1.0   \n\n        rub_per_minute  extra_pay_voices  extra_pay_messages  \\\ntariff                                                         \nsmart              3.0         84.183044             5.79991   \nultra              1.0          0.000000             0.00000   \n\n        extra_pay_internet    extra_pay  \ntariff                                   \nsmart          5452.192949  1360.816927  \nultra           953.452297   144.005001  ",
      "text/html": "<div>\n<style scoped>\n    .dataframe tbody tr th:only-of-type {\n        vertical-align: middle;\n    }\n\n    .dataframe tbody tr th {\n        vertical-align: top;\n    }\n\n    .dataframe thead th {\n        text-align: right;\n    }\n</style>\n<table border=\"1\" class=\"dataframe\">\n  <thead>\n    <tr style=\"text-align: right;\">\n      <th></th>\n      <th>user_id</th>\n      <th>month</th>\n      <th>calls_num</th>\n      <th>calls_duration</th>\n      <th>msgs_num</th>\n      <th>mb_used</th>\n      <th>messages_included</th>\n      <th>mb_per_month_included</th>\n      <th>minutes_included</th>\n      <th>rub_monthly_fee</th>\n      <th>rub_per_gb</th>\n      <th>rub_per_message</th>\n      <th>rub_per_minute</th>\n      <th>extra_pay_voices</th>\n      <th>extra_pay_messages</th>\n      <th>extra_pay_internet</th>\n      <th>extra_pay</th>\n    </tr>\n    <tr>\n      <th>tariff</th>\n      <th></th>\n      <th></th>\n      <th></th>\n      <th></th>\n      <th></th>\n      <th></th>\n      <th></th>\n      <th></th>\n      <th></th>\n      <th></th>\n      <th></th>\n      <th></th>\n      <th></th>\n      <th></th>\n      <th></th>\n      <th></th>\n      <th></th>\n    </tr>\n  </thead>\n  <tbody>\n    <tr>\n      <th>smart</th>\n      <td>1246.506505</td>\n      <td>8.346792</td>\n      <td>58.621233</td>\n      <td>492.461005</td>\n      <td>33.384029</td>\n      <td>19615.364267</td>\n      <td>50.0</td>\n      <td>15360.0</td>\n      <td>500.0</td>\n      <td>550.0</td>\n      <td>200.0</td>\n      <td>3.0</td>\n      <td>3.0</td>\n      <td>84.183044</td>\n      <td>5.79991</td>\n      <td>5452.192949</td>\n      <td>1360.816927</td>\n    </tr>\n    <tr>\n      <th>ultra</th>\n      <td>1263.094416</td>\n      <td>8.250761</td>\n      <td>76.016824</td>\n      <td>637.971651</td>\n      <td>49.413618</td>\n      <td>20236.627338</td>\n      <td>1000.0</td>\n      <td>30720.0</td>\n      <td>3000.0</td>\n      <td>1950.0</td>\n      <td>150.0</td>\n      <td>1.0</td>\n      <td>1.0</td>\n      <td>0.000000</td>\n      <td>0.00000</td>\n      <td>953.452297</td>\n      <td>144.005001</td>\n    </tr>\n  </tbody>\n</table>\n</div>"
     },
     "execution_count": 35,
     "metadata": {},
     "output_type": "execute_result"
    }
   ],
   "source": [
    "total.groupby('tariff').mean()"
   ],
   "metadata": {
    "collapsed": false,
    "pycharm": {
     "name": "#%%\n"
    }
   }
  },
  {
   "cell_type": "markdown",
   "source": [
    "Посчитайте среднее количество, дисперсию и стандартное отклонение. Постройте гистограммы.\n",
    "Опишите распределения."
   ],
   "metadata": {
    "collapsed": false,
    "pycharm": {
     "name": "#%% md\n"
    }
   }
  },
  {
   "cell_type": "code",
   "execution_count": 36,
   "outputs": [
    {
     "data": {
      "text/plain": "calls_num            63.833333\ncalls_duration      536.059186\nmsgs_num             38.293184\nmb_used           19805.763808\nextra_pay           996.233391\ndtype: float64"
     },
     "execution_count": 36,
     "metadata": {},
     "output_type": "execute_result"
    }
   ],
   "source": [
    "total[['calls_num', 'calls_duration', 'msgs_num', 'mb_used', 'extra_pay']].mean()"
   ],
   "metadata": {
    "collapsed": false,
    "pycharm": {
     "name": "#%%\n"
    }
   }
  },
  {
   "cell_type": "code",
   "execution_count": 37,
   "outputs": [
    {
     "data": {
      "text/plain": "calls_num           32.678036\ncalls_duration     276.085391\nmsgs_num            36.147640\nmb_used           8179.340252\nextra_pay         1149.006450\ndtype: float64"
     },
     "execution_count": 37,
     "metadata": {},
     "output_type": "execute_result"
    }
   ],
   "source": [
    "total[['calls_num', 'calls_duration', 'msgs_num', 'mb_used', 'extra_pay']].std()"
   ],
   "metadata": {
    "collapsed": false,
    "pycharm": {
     "name": "#%%\n"
    }
   }
  },
  {
   "cell_type": "code",
   "execution_count": 38,
   "outputs": [
    {
     "data": {
      "text/plain": "calls_num         1.067854e+03\ncalls_duration    7.622314e+04\nmsgs_num          1.306652e+03\nmb_used           6.690161e+07\nextra_pay         1.320216e+06\ndtype: float64"
     },
     "execution_count": 38,
     "metadata": {},
     "output_type": "execute_result"
    }
   ],
   "source": [
    "total[['calls_num', 'calls_duration', 'msgs_num', 'mb_used', 'extra_pay']].var(ddof=1)"
   ],
   "metadata": {
    "collapsed": false,
    "pycharm": {
     "name": "#%%\n"
    }
   }
  },
  {
   "cell_type": "code",
   "execution_count": 39,
   "outputs": [
    {
     "data": {
      "text/plain": "<Figure size 720x360 with 1 Axes>",
      "image/png": "[encoded data removed]"
     },
     "metadata": {
      "needs_background": "light"
     },
     "output_type": "display_data"
    },
    {
     "data": {
      "text/plain": "<Figure size 720x360 with 1 Axes>",
      "image/png": "[encoded data removed]"
     },
     "metadata": {
      "needs_background": "light"
     },
     "output_type": "display_data"
    },
    {
     "data": {
      "text/plain": "<Figure size 720x360 with 1 Axes>",
      "image/png": "[encoded data removed]"
     },
     "metadata": {
      "needs_background": "light"
     },
     "output_type": "display_data"
    },
    {
     "data": {
      "text/plain": "<Figure size 720x360 with 1 Axes>",
      "image/png": "[encoded data removed]"
     },
     "metadata": {
      "needs_background": "light"
     },
     "output_type": "display_data"
    },
    {
     "data": {
      "text/plain": "<Figure size 720x360 with 1 Axes>",
      "image/png": "[encoded data removed]"
     },
     "metadata": {
      "needs_background": "light"
     },
     "output_type": "display_data"
    }
   ],
   "source": [
    "for feat in ['calls_num', 'calls_duration', 'msgs_num', 'mb_used', 'extra_pay']:\n",
    "    total[feat].hist(bins=100, figsize=(10, 5), legend=feat)\n",
    "\n",
    "    plt.show()"
   ],
   "metadata": {
    "collapsed": false,
    "pycharm": {
     "name": "#%%\n"
    }
   }
  },
  {
   "cell_type": "markdown",
   "source": [
    "- большинство не доплачивает\n",
    "- большинство не пользуется смс"
   ],
   "metadata": {
    "collapsed": false,
    "pycharm": {
     "name": "#%% md\n"
    }
   }
  },
  {
   "cell_type": "markdown",
   "source": [
    "## Шаг 4. Проверьте гипотезы\n",
    "\n",
    "- средняя выручка пользователей тарифов «Ультра» и «Смарт» различается"
   ],
   "metadata": {
    "collapsed": false,
    "pycharm": {
     "name": "#%% md\n"
    }
   }
  },
  {
   "cell_type": "code",
   "execution_count": 40,
   "outputs": [
    {
     "data": {
      "text/plain": "tariff\nsmart     550\nultra    1950\nName: rub_monthly_fee, dtype: int64"
     },
     "execution_count": 40,
     "metadata": {},
     "output_type": "execute_result"
    }
   ],
   "source": [
    "total.groupby('tariff').rub_monthly_fee.mean()"
   ],
   "metadata": {
    "collapsed": false,
    "pycharm": {
     "name": "#%%\n"
    }
   }
  },
  {
   "cell_type": "markdown",
   "source": [
    "выручка на смарте в 3.5 раза больше"
   ],
   "metadata": {
    "collapsed": false,
    "pycharm": {
     "name": "#%% md\n"
    }
   }
  },
  {
   "cell_type": "markdown",
   "source": [
    "- средняя выручка пользователей из Москвы отличается от выручки пользователей из других регионов;"
   ],
   "metadata": {
    "collapsed": false,
    "pycharm": {
     "name": "#%% md\n"
    }
   }
  },
  {
   "cell_type": "code",
   "execution_count": 41,
   "outputs": [],
   "source": [
    "total = total.merge(users[['user_id', 'city']], on='user_id')"
   ],
   "metadata": {
    "collapsed": false,
    "pycharm": {
     "name": "#%%\n"
    }
   }
  },
  {
   "cell_type": "code",
   "execution_count": 42,
   "outputs": [
    {
     "data": {
      "text/plain": "1065.5482815057283"
     },
     "execution_count": 42,
     "metadata": {},
     "output_type": "execute_result"
    }
   ],
   "source": [
    "total[total.city == 'Москва'].rub_monthly_fee.mean()"
   ],
   "metadata": {
    "collapsed": false,
    "pycharm": {
     "name": "#%%\n"
    }
   }
  },
  {
   "cell_type": "code",
   "execution_count": 43,
   "outputs": [
    {
     "data": {
      "text/plain": "958.7591240875912"
     },
     "execution_count": 43,
     "metadata": {},
     "output_type": "execute_result"
    }
   ],
   "source": [
    "total[total.city != 'Москва'].rub_monthly_fee.mean()\n"
   ],
   "metadata": {
    "collapsed": false,
    "pycharm": {
     "name": "#%%\n"
    }
   }
  },
  {
   "cell_type": "markdown",
   "source": [
    "москвичи платят больше на 10 процентов"
   ],
   "metadata": {
    "collapsed": false,
    "pycharm": {
     "name": "#%% md\n"
    }
   }
  },
  {
   "cell_type": "code",
   "execution_count": null,
   "outputs": [],
   "source": [],
   "metadata": {
    "collapsed": false,
    "pycharm": {
     "name": "#%%\n"
    }
   }
  }
 ],
 "metadata": {
  "kernelspec": {
   "name": "pycharm-b07eb336",
   "language": "python",
   "display_name": "PyCharm (data-science-cource)"
  },
  "language_info": {
   "codemirror_mode": {
    "name": "ipython",
    "version": 3
   },
   "file_extension": ".py",
   "mimetype": "text/x-python",
   "name": "python",
   "nbconvert_exporter": "python",
   "pygments_lexer": "ipython3",
   "version": "3.7.4"
  }
 },
 "nbformat": 4,
 "nbformat_minor": 2
}